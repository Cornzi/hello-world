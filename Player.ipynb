{
  "nbformat": 4,
  "nbformat_minor": 0,
  "metadata": {
    "colab": {
      "name": "Untitled14.ipynb",
      "provenance": [],
      "authorship_tag": "ABX9TyOEWNuq795EcqrUwABdGNHF",
      "include_colab_link": true
    },
    "kernelspec": {
      "name": "python3",
      "display_name": "Python 3"
    },
    "language_info": {
      "name": "python"
    },
    "widgets": {
      "application/vnd.jupyter.widget-state+json": {
        "7c3b46c5d4b545fda77f28fd784c4617": {
          "model_module": "@jupyter-widgets/controls",
          "model_name": "VBoxModel",
          "state": {
            "_view_name": "VBoxView",
            "_dom_classes": [],
            "_model_name": "VBoxModel",
            "_view_module": "@jupyter-widgets/controls",
            "_model_module_version": "1.5.0",
            "_view_count": null,
            "_view_module_version": "1.5.0",
            "box_style": "",
            "layout": "IPY_MODEL_d84e0381ff714318b3304747c6943c33",
            "_model_module": "@jupyter-widgets/controls",
            "children": [
              "IPY_MODEL_d0c569ed48fe4e509f461dea2e67b6e9",
              "IPY_MODEL_1fe667a942024503a50a4eab543ae8d8",
              "IPY_MODEL_1b20a861c1634cf1b9acffa658de0c28",
              "IPY_MODEL_2f9382e55adc430f9f4c17e0288e230d",
              "IPY_MODEL_1db44d1e55fb44bc9bc0c62a2c9dc0d1",
              "IPY_MODEL_6244e65e2b4e4208b32a2c6c8a980729"
            ]
          }
        },
        "d84e0381ff714318b3304747c6943c33": {
          "model_module": "@jupyter-widgets/base",
          "model_name": "LayoutModel",
          "state": {
            "_view_name": "LayoutView",
            "grid_template_rows": null,
            "right": null,
            "justify_content": null,
            "_view_module": "@jupyter-widgets/base",
            "overflow": null,
            "_model_module_version": "1.2.0",
            "_view_count": null,
            "flex_flow": null,
            "width": null,
            "min_width": null,
            "border": null,
            "align_items": null,
            "bottom": null,
            "_model_module": "@jupyter-widgets/base",
            "top": null,
            "grid_column": null,
            "overflow_y": null,
            "overflow_x": null,
            "grid_auto_flow": null,
            "grid_area": null,
            "grid_template_columns": null,
            "flex": null,
            "_model_name": "LayoutModel",
            "justify_items": null,
            "grid_row": null,
            "max_height": null,
            "align_content": null,
            "visibility": null,
            "align_self": null,
            "height": null,
            "min_height": null,
            "padding": null,
            "grid_auto_rows": null,
            "grid_gap": null,
            "max_width": null,
            "order": null,
            "_view_module_version": "1.2.0",
            "grid_template_areas": null,
            "object_position": null,
            "object_fit": null,
            "grid_auto_columns": null,
            "margin": null,
            "display": null,
            "left": null
          }
        },
        "d0c569ed48fe4e509f461dea2e67b6e9": {
          "model_module": "@jupyter-widgets/controls",
          "model_name": "LabelModel",
          "state": {
            "_view_name": "LabelView",
            "style": "IPY_MODEL_5458fa5cdc834670a29d37058d8add7f",
            "_dom_classes": [],
            "description": "",
            "_model_name": "LabelModel",
            "placeholder": "​",
            "_view_module": "@jupyter-widgets/controls",
            "_model_module_version": "1.5.0",
            "value": "select your image",
            "_view_count": null,
            "_view_module_version": "1.5.0",
            "description_tooltip": null,
            "_model_module": "@jupyter-widgets/controls",
            "layout": "IPY_MODEL_88a142442bc448be92e8c3185695229c"
          }
        },
        "1fe667a942024503a50a4eab543ae8d8": {
          "model_module": "@jupyter-widgets/output",
          "model_name": "OutputModel",
          "state": {
            "_view_name": "OutputView",
            "msg_id": "",
            "_dom_classes": [],
            "_model_name": "OutputModel",
            "outputs": [
              {
                "output_type": "display_data",
                "metadata": {
                  "tags": []
                },
                "image/png": "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\n",
                "text/plain": "<PIL.Image.Image image mode=RGB size=128x85 at 0x7F74E9B76110>"
              }
            ],
            "_view_module": "@jupyter-widgets/output",
            "_model_module_version": "1.0.0",
            "_view_count": null,
            "_view_module_version": "1.0.0",
            "layout": "IPY_MODEL_49819cba481a42718f0d4cc4f43b1286",
            "_model_module": "@jupyter-widgets/output"
          }
        },
        "1b20a861c1634cf1b9acffa658de0c28": {
          "model_module": "@jupyter-widgets/controls",
          "model_name": "FileUploadModel",
          "state": {
            "_view_name": "FileUploadView",
            "_counter": 2,
            "style": "IPY_MODEL_3b2e86e60cc741b89d26213db53f869c",
            "_dom_classes": [],
            "description": "Upload",
            "multiple": false,
            "_model_name": "FileUploadModel",
            "data": [
              null
            ],
            "button_style": "",
            "_view_module": "@jupyter-widgets/controls",
            "_model_module_version": "1.5.0",
            "accept": "",
            "_view_count": null,
            "disabled": false,
            "_view_module_version": "1.5.0",
            "error": "",
            "description_tooltip": null,
            "metadata": [
              {
                "name": "67586673.jpeg",
                "type": "image/jpeg",
                "size": 688679,
                "lastModified": 1616434029711
              }
            ],
            "_model_module": "@jupyter-widgets/controls",
            "layout": "IPY_MODEL_8e0da231916f4af88fa941b77d69ea69",
            "icon": "upload"
          }
        },
        "2f9382e55adc430f9f4c17e0288e230d": {
          "model_module": "@jupyter-widgets/controls",
          "model_name": "ButtonModel",
          "state": {
            "_view_name": "ButtonView",
            "style": "IPY_MODEL_74ee9af711eb4b29bb069d8339ef0188",
            "_dom_classes": [],
            "description": "Remove",
            "_model_name": "ButtonModel",
            "button_style": "",
            "_view_module": "@jupyter-widgets/controls",
            "_model_module_version": "1.5.0",
            "tooltip": "",
            "_view_count": null,
            "disabled": false,
            "_view_module_version": "1.5.0",
            "layout": "IPY_MODEL_a0b9ae798c404bf7ac44066c5c2c6734",
            "_model_module": "@jupyter-widgets/controls",
            "icon": ""
          }
        },
        "1db44d1e55fb44bc9bc0c62a2c9dc0d1": {
          "model_module": "@jupyter-widgets/controls",
          "model_name": "ButtonModel",
          "state": {
            "_view_name": "ButtonView",
            "style": "IPY_MODEL_ee767321e2eb44f080d2a31d331647e9",
            "_dom_classes": [],
            "description": "Classify",
            "_model_name": "ButtonModel",
            "button_style": "",
            "_view_module": "@jupyter-widgets/controls",
            "_model_module_version": "1.5.0",
            "tooltip": "",
            "_view_count": null,
            "disabled": false,
            "_view_module_version": "1.5.0",
            "layout": "IPY_MODEL_6aa5688db2494c2d9a73be4cf5e50896",
            "_model_module": "@jupyter-widgets/controls",
            "icon": ""
          }
        },
        "6244e65e2b4e4208b32a2c6c8a980729": {
          "model_module": "@jupyter-widgets/controls",
          "model_name": "LabelModel",
          "state": {
            "_view_name": "LabelView",
            "style": "IPY_MODEL_817a01ae779c43bcaee60fcc6b095ce7",
            "_dom_classes": [],
            "description": "",
            "_model_name": "LabelModel",
            "placeholder": "​",
            "_view_module": "@jupyter-widgets/controls",
            "_model_module_version": "1.5.0",
            "value": "Prediction:virat Kholi ; Probability:0.774247944355011",
            "_view_count": null,
            "_view_module_version": "1.5.0",
            "description_tooltip": null,
            "_model_module": "@jupyter-widgets/controls",
            "layout": "IPY_MODEL_0732255dbb014c6d86f7ae7208c7bf7c"
          }
        },
        "5458fa5cdc834670a29d37058d8add7f": {
          "model_module": "@jupyter-widgets/controls",
          "model_name": "DescriptionStyleModel",
          "state": {
            "_view_name": "StyleView",
            "_model_name": "DescriptionStyleModel",
            "description_width": "",
            "_view_module": "@jupyter-widgets/base",
            "_model_module_version": "1.5.0",
            "_view_count": null,
            "_view_module_version": "1.2.0",
            "_model_module": "@jupyter-widgets/controls"
          }
        },
        "88a142442bc448be92e8c3185695229c": {
          "model_module": "@jupyter-widgets/base",
          "model_name": "LayoutModel",
          "state": {
            "_view_name": "LayoutView",
            "grid_template_rows": null,
            "right": null,
            "justify_content": null,
            "_view_module": "@jupyter-widgets/base",
            "overflow": null,
            "_model_module_version": "1.2.0",
            "_view_count": null,
            "flex_flow": null,
            "width": null,
            "min_width": null,
            "border": null,
            "align_items": null,
            "bottom": null,
            "_model_module": "@jupyter-widgets/base",
            "top": null,
            "grid_column": null,
            "overflow_y": null,
            "overflow_x": null,
            "grid_auto_flow": null,
            "grid_area": null,
            "grid_template_columns": null,
            "flex": null,
            "_model_name": "LayoutModel",
            "justify_items": null,
            "grid_row": null,
            "max_height": null,
            "align_content": null,
            "visibility": null,
            "align_self": null,
            "height": null,
            "min_height": null,
            "padding": null,
            "grid_auto_rows": null,
            "grid_gap": null,
            "max_width": null,
            "order": null,
            "_view_module_version": "1.2.0",
            "grid_template_areas": null,
            "object_position": null,
            "object_fit": null,
            "grid_auto_columns": null,
            "margin": null,
            "display": null,
            "left": null
          }
        },
        "3b2e86e60cc741b89d26213db53f869c": {
          "model_module": "@jupyter-widgets/controls",
          "model_name": "ButtonStyleModel",
          "state": {
            "_view_name": "StyleView",
            "_model_name": "ButtonStyleModel",
            "_view_module": "@jupyter-widgets/base",
            "_model_module_version": "1.5.0",
            "_view_count": null,
            "button_color": null,
            "font_weight": "",
            "_view_module_version": "1.2.0",
            "_model_module": "@jupyter-widgets/controls"
          }
        },
        "8e0da231916f4af88fa941b77d69ea69": {
          "model_module": "@jupyter-widgets/base",
          "model_name": "LayoutModel",
          "state": {
            "_view_name": "LayoutView",
            "grid_template_rows": null,
            "right": null,
            "justify_content": null,
            "_view_module": "@jupyter-widgets/base",
            "overflow": null,
            "_model_module_version": "1.2.0",
            "_view_count": null,
            "flex_flow": null,
            "width": null,
            "min_width": null,
            "border": null,
            "align_items": null,
            "bottom": null,
            "_model_module": "@jupyter-widgets/base",
            "top": null,
            "grid_column": null,
            "overflow_y": null,
            "overflow_x": null,
            "grid_auto_flow": null,
            "grid_area": null,
            "grid_template_columns": null,
            "flex": null,
            "_model_name": "LayoutModel",
            "justify_items": null,
            "grid_row": null,
            "max_height": null,
            "align_content": null,
            "visibility": null,
            "align_self": null,
            "height": null,
            "min_height": null,
            "padding": null,
            "grid_auto_rows": null,
            "grid_gap": null,
            "max_width": null,
            "order": null,
            "_view_module_version": "1.2.0",
            "grid_template_areas": null,
            "object_position": null,
            "object_fit": null,
            "grid_auto_columns": null,
            "margin": null,
            "display": null,
            "left": null
          }
        },
        "74ee9af711eb4b29bb069d8339ef0188": {
          "model_module": "@jupyter-widgets/controls",
          "model_name": "ButtonStyleModel",
          "state": {
            "_view_name": "StyleView",
            "_model_name": "ButtonStyleModel",
            "_view_module": "@jupyter-widgets/base",
            "_model_module_version": "1.5.0",
            "_view_count": null,
            "button_color": null,
            "font_weight": "",
            "_view_module_version": "1.2.0",
            "_model_module": "@jupyter-widgets/controls"
          }
        },
        "a0b9ae798c404bf7ac44066c5c2c6734": {
          "model_module": "@jupyter-widgets/base",
          "model_name": "LayoutModel",
          "state": {
            "_view_name": "LayoutView",
            "grid_template_rows": null,
            "right": null,
            "justify_content": null,
            "_view_module": "@jupyter-widgets/base",
            "overflow": null,
            "_model_module_version": "1.2.0",
            "_view_count": null,
            "flex_flow": null,
            "width": null,
            "min_width": null,
            "border": null,
            "align_items": null,
            "bottom": null,
            "_model_module": "@jupyter-widgets/base",
            "top": null,
            "grid_column": null,
            "overflow_y": null,
            "overflow_x": null,
            "grid_auto_flow": null,
            "grid_area": null,
            "grid_template_columns": null,
            "flex": null,
            "_model_name": "LayoutModel",
            "justify_items": null,
            "grid_row": null,
            "max_height": null,
            "align_content": null,
            "visibility": null,
            "align_self": null,
            "height": null,
            "min_height": null,
            "padding": null,
            "grid_auto_rows": null,
            "grid_gap": null,
            "max_width": null,
            "order": null,
            "_view_module_version": "1.2.0",
            "grid_template_areas": null,
            "object_position": null,
            "object_fit": null,
            "grid_auto_columns": null,
            "margin": null,
            "display": null,
            "left": null
          }
        },
        "ee767321e2eb44f080d2a31d331647e9": {
          "model_module": "@jupyter-widgets/controls",
          "model_name": "ButtonStyleModel",
          "state": {
            "_view_name": "StyleView",
            "_model_name": "ButtonStyleModel",
            "_view_module": "@jupyter-widgets/base",
            "_model_module_version": "1.5.0",
            "_view_count": null,
            "button_color": null,
            "font_weight": "",
            "_view_module_version": "1.2.0",
            "_model_module": "@jupyter-widgets/controls"
          }
        },
        "6aa5688db2494c2d9a73be4cf5e50896": {
          "model_module": "@jupyter-widgets/base",
          "model_name": "LayoutModel",
          "state": {
            "_view_name": "LayoutView",
            "grid_template_rows": null,
            "right": null,
            "justify_content": null,
            "_view_module": "@jupyter-widgets/base",
            "overflow": null,
            "_model_module_version": "1.2.0",
            "_view_count": null,
            "flex_flow": null,
            "width": null,
            "min_width": null,
            "border": null,
            "align_items": null,
            "bottom": null,
            "_model_module": "@jupyter-widgets/base",
            "top": null,
            "grid_column": null,
            "overflow_y": null,
            "overflow_x": null,
            "grid_auto_flow": null,
            "grid_area": null,
            "grid_template_columns": null,
            "flex": null,
            "_model_name": "LayoutModel",
            "justify_items": null,
            "grid_row": null,
            "max_height": null,
            "align_content": null,
            "visibility": null,
            "align_self": null,
            "height": null,
            "min_height": null,
            "padding": null,
            "grid_auto_rows": null,
            "grid_gap": null,
            "max_width": null,
            "order": null,
            "_view_module_version": "1.2.0",
            "grid_template_areas": null,
            "object_position": null,
            "object_fit": null,
            "grid_auto_columns": null,
            "margin": null,
            "display": null,
            "left": null
          }
        },
        "817a01ae779c43bcaee60fcc6b095ce7": {
          "model_module": "@jupyter-widgets/controls",
          "model_name": "DescriptionStyleModel",
          "state": {
            "_view_name": "StyleView",
            "_model_name": "DescriptionStyleModel",
            "description_width": "",
            "_view_module": "@jupyter-widgets/base",
            "_model_module_version": "1.5.0",
            "_view_count": null,
            "_view_module_version": "1.2.0",
            "_model_module": "@jupyter-widgets/controls"
          }
        },
        "0732255dbb014c6d86f7ae7208c7bf7c": {
          "model_module": "@jupyter-widgets/base",
          "model_name": "LayoutModel",
          "state": {
            "_view_name": "LayoutView",
            "grid_template_rows": null,
            "right": null,
            "justify_content": null,
            "_view_module": "@jupyter-widgets/base",
            "overflow": null,
            "_model_module_version": "1.2.0",
            "_view_count": null,
            "flex_flow": null,
            "width": null,
            "min_width": null,
            "border": null,
            "align_items": null,
            "bottom": null,
            "_model_module": "@jupyter-widgets/base",
            "top": null,
            "grid_column": null,
            "overflow_y": null,
            "overflow_x": null,
            "grid_auto_flow": null,
            "grid_area": null,
            "grid_template_columns": null,
            "flex": null,
            "_model_name": "LayoutModel",
            "justify_items": null,
            "grid_row": null,
            "max_height": null,
            "align_content": null,
            "visibility": null,
            "align_self": null,
            "height": null,
            "min_height": null,
            "padding": null,
            "grid_auto_rows": null,
            "grid_gap": null,
            "max_width": null,
            "order": null,
            "_view_module_version": "1.2.0",
            "grid_template_areas": null,
            "object_position": null,
            "object_fit": null,
            "grid_auto_columns": null,
            "margin": null,
            "display": null,
            "left": null
          }
        },
        "49819cba481a42718f0d4cc4f43b1286": {
          "model_module": "@jupyter-widgets/base",
          "model_name": "LayoutModel",
          "state": {
            "_view_name": "LayoutView",
            "grid_template_rows": null,
            "right": null,
            "justify_content": null,
            "_view_module": "@jupyter-widgets/base",
            "overflow": null,
            "_model_module_version": "1.2.0",
            "_view_count": null,
            "flex_flow": null,
            "width": null,
            "min_width": null,
            "border": null,
            "align_items": null,
            "bottom": null,
            "_model_module": "@jupyter-widgets/base",
            "top": null,
            "grid_column": null,
            "overflow_y": null,
            "overflow_x": null,
            "grid_auto_flow": null,
            "grid_area": null,
            "grid_template_columns": null,
            "flex": null,
            "_model_name": "LayoutModel",
            "justify_items": null,
            "grid_row": null,
            "max_height": null,
            "align_content": null,
            "visibility": null,
            "align_self": null,
            "height": null,
            "min_height": null,
            "padding": null,
            "grid_auto_rows": null,
            "grid_gap": null,
            "max_width": null,
            "order": null,
            "_view_module_version": "1.2.0",
            "grid_template_areas": null,
            "object_position": null,
            "object_fit": null,
            "grid_auto_columns": null,
            "margin": null,
            "display": null,
            "left": null
          }
        }
      }
    }
  },
  "cells": [
    {
      "cell_type": "markdown",
      "metadata": {
        "id": "view-in-github",
        "colab_type": "text"
      },
      "source": [
        "<a href=\"https://colab.research.google.com/github/Cornzi/hello-world/blob/master/Player.ipynb\" target=\"_parent\"><img src=\"https://colab.research.google.com/assets/colab-badge.svg\" alt=\"Open In Colab\"/></a>"
      ]
    },
    {
      "cell_type": "code",
      "metadata": {
        "id": "JTEsrNTkItlV"
      },
      "source": [
        "import voila\n",
        "voila.configuration.VoilaConfiguration.show_tracebacks=True"
      ],
      "execution_count": 130,
      "outputs": []
    },
    {
      "cell_type": "code",
      "metadata": {
        "id": "UviI61bG00AW"
      },
      "source": [
        "from  fastai.vision.all import *\n",
        "from fastai.vision.widgets import *\n",
        "\n",
        "\n",
        "model=load_learner('export (1).pkl')\n",
        "label=widgets.Label()\n",
        "out=widgets.Output()\n",
        "btn_upload=widgets.FileUpload()\n",
        "btn_rem=widgets.Button(description=\"Remove\")\n",
        "btn_run=widgets.Button(description=\"Classify\")\n",
        "def classify(change):\n",
        "  try:\n",
        "    img=PILImage.create(btn_upload.data[0])\n",
        "  except:\n",
        "    label.value=\"Oops! Failed to load image! Please upload another\"\n",
        "    time.sleep(3)\n",
        "    return \n",
        "  with out:\n",
        "    display(img.to_thumb(128))\n",
        "  pred,ten,prob=model.predict(img)\n",
        "  label.value=f'Prediction:{pred} ; Probability:{prob.max().item()}'\n",
        "btn_run.on_click(classify)\n",
        "def remove(change):\n",
        "  btn_upload.data=[]\n",
        "  out.clear_output()\n",
        "btn_rem.on_click(remove)"
      ],
      "execution_count": 119,
      "outputs": []
    },
    {
      "cell_type": "code",
      "metadata": {
        "colab": {
          "base_uri": "https://localhost:8080/",
          "height": 262,
          "referenced_widgets": [
            "7c3b46c5d4b545fda77f28fd784c4617",
            "d84e0381ff714318b3304747c6943c33",
            "d0c569ed48fe4e509f461dea2e67b6e9",
            "1fe667a942024503a50a4eab543ae8d8",
            "1b20a861c1634cf1b9acffa658de0c28",
            "2f9382e55adc430f9f4c17e0288e230d",
            "1db44d1e55fb44bc9bc0c62a2c9dc0d1",
            "6244e65e2b4e4208b32a2c6c8a980729",
            "5458fa5cdc834670a29d37058d8add7f",
            "88a142442bc448be92e8c3185695229c",
            "3b2e86e60cc741b89d26213db53f869c",
            "8e0da231916f4af88fa941b77d69ea69",
            "74ee9af711eb4b29bb069d8339ef0188",
            "a0b9ae798c404bf7ac44066c5c2c6734",
            "ee767321e2eb44f080d2a31d331647e9",
            "6aa5688db2494c2d9a73be4cf5e50896",
            "817a01ae779c43bcaee60fcc6b095ce7",
            "0732255dbb014c6d86f7ae7208c7bf7c",
            "49819cba481a42718f0d4cc4f43b1286"
          ]
        },
        "id": "7-sENo595PSr",
        "outputId": "702e45fb-b53f-4fcd-9e44-5c02a03c8427"
      },
      "source": [
        "label.value=\"Prediction will show here!\"\n",
        "VBox([widgets.Label(\"select your image\"),\n",
        "    out,btn_upload,btn_rem,btn_run,label])"
      ],
      "execution_count": 120,
      "outputs": [
        {
          "output_type": "display_data",
          "data": {
            "application/vnd.jupyter.widget-view+json": {
              "model_id": "7c3b46c5d4b545fda77f28fd784c4617",
              "version_minor": 0,
              "version_major": 2
            },
            "text/plain": [
              "VBox(children=(Label(value='select your image'), Output(), FileUpload(value={}, description='Upload'), Button(…"
            ]
          },
          "metadata": {
            "tags": []
          }
        },
        {
          "output_type": "display_data",
          "data": {
            "text/html": [
              ""
            ],
            "text/plain": [
              "<IPython.core.display.HTML object>"
            ]
          },
          "metadata": {
            "tags": []
          }
        },
        {
          "output_type": "display_data",
          "data": {
            "text/html": [
              ""
            ],
            "text/plain": [
              "<IPython.core.display.HTML object>"
            ]
          },
          "metadata": {
            "tags": []
          }
        }
      ]
    }
  ]
}